{
  "nbformat": 4,
  "nbformat_minor": 0,
  "metadata": {
    "colab": {
      "name": "Keras0-Test.ipynb",
      "provenance": [],
      "collapsed_sections": [],
      "authorship_tag": "ABX9TyOrjEWePnxkiug6TACgPZkb",
      "include_colab_link": true
    },
    "kernelspec": {
      "name": "python3",
      "display_name": "Python 3"
    }
  },
  "cells": [
    {
      "cell_type": "markdown",
      "metadata": {
        "id": "view-in-github",
        "colab_type": "text"
      },
      "source": [
        "<a href=\"https://colab.research.google.com/github/BluRaf/tree-classify/blob/master/Keras0_Test.ipynb\" target=\"_parent\"><img src=\"https://colab.research.google.com/assets/colab-badge.svg\" alt=\"Open In Colab\"/></a>"
      ]
    },
    {
      "cell_type": "code",
      "metadata": {
        "id": "9mLfAjiP7Rbh"
      },
      "source": [
        "!pip3 install tflite-model-maker"
      ],
      "execution_count": null,
      "outputs": []
    },
    {
      "cell_type": "code",
      "metadata": {
        "id": "yE8F0MgU7wEX"
      },
      "source": [
        "import numpy as np\r\n",
        "import tensorflow as tf\r\n",
        "from tensorflow import keras"
      ],
      "execution_count": null,
      "outputs": []
    },
    {
      "cell_type": "code",
      "metadata": {
        "id": "B4RDvDBg9fPp"
      },
      "source": [
        "data_dir = '/content/drive/MyDrive/studia/sem5/pk/dataset'\r\n",
        "image_size=(512, 512)"
      ],
      "execution_count": null,
      "outputs": []
    },
    {
      "cell_type": "code",
      "metadata": {
        "id": "lMzsA3OV8V0z"
      },
      "source": [
        "train_ds = tf.keras.preprocessing.image_dataset_from_directory(\r\n",
        "  data_dir,\r\n",
        "  validation_split=0.2,\r\n",
        "  subset=\"training\",\r\n",
        "  seed=123,\r\n",
        "  image_size=(img_height, img_width)\r\n",
        "  )\r\n"
      ],
      "execution_count": null,
      "outputs": []
    },
    {
      "cell_type": "code",
      "metadata": {
        "id": "ErSJpyc09N_f"
      },
      "source": [
        "val_ds = tf.keras.preprocessing.image_dataset_from_directory(\r\n",
        "  data_dir,\r\n",
        "  validation_split=0.2,\r\n",
        "  subset=\"validation\",\r\n",
        "  seed=123,\r\n",
        "  image_size=(img_height, img_width)\r\n",
        "  )"
      ],
      "execution_count": null,
      "outputs": []
    },
    {
      "cell_type": "code",
      "metadata": {
        "id": "fv4AggKd9R4Q"
      },
      "source": [
        "class_names = train_ds.class_names\r\n",
        "print(class_names)"
      ],
      "execution_count": null,
      "outputs": []
    },
    {
      "cell_type": "code",
      "metadata": {
        "id": "1LFm0wEn9Tbd"
      },
      "source": [
        "from tensorflow.keras import layers\r\n",
        "\r\n",
        "data_augmentation = keras.Sequential(\r\n",
        "    [\r\n",
        "        layers.experimental.preprocessing.RandomFlip(\"horizontal\"),\r\n",
        "        layers.experimental.preprocessing.RandomRotation(0.1),\r\n",
        "    ]\r\n",
        ")\r\n"
      ],
      "execution_count": null,
      "outputs": []
    },
    {
      "cell_type": "code",
      "metadata": {
        "id": "8O2XXRR199KR"
      },
      "source": [
        "  base_model = tf.keras.applications.MobileNetV2(\r\n",
        "    weights=\"imagenet\",  # Load weights pre-trained on ImageNet.\r\n",
        "    input_shape=(150, 150, 3),\r\n",
        "    include_top=False,\r\n",
        ")  # Do not include the ImageNet classifier at the top.\r\n",
        "\r\n",
        "# Freeze the base_model\r\n",
        "base_model.trainable = False\r\n",
        "\r\n",
        "# Create new model on top\r\n",
        "inputs = keras.Input(shape=(150, 150, 3))\r\n",
        "x = data_augmentation(inputs)  # Apply random data augmentation\r\n",
        "\r\n",
        "# Pre-trained Xception weights requires that input be normalized\r\n",
        "# from (0, 255) to a range (-1., +1.), the normalization layer\r\n",
        "# does the following, outputs = (inputs - mean) / sqrt(var)\r\n",
        "norm_layer = keras.layers.experimental.preprocessing.Normalization()\r\n",
        "mean = np.array([127.5] * 3)\r\n",
        "var = mean ** 2\r\n",
        "# Scale inputs to [-1, +1]\r\n",
        "x = norm_layer(x)\r\n",
        "norm_layer.set_weights([mean, var])\r\n",
        "\r\n",
        "# The base model contains batchnorm layers. We want to keep them in inference mode\r\n",
        "# when we unfreeze the base model for fine-tuning, so we make sure that the\r\n",
        "# base_model is running in inference mode here.\r\n",
        "x = base_model(x, training=False)\r\n",
        "x = keras.layers.GlobalAveragePooling2D()(x)\r\n",
        "x = keras.layers.Dropout(0.2)(x)  # Regularize with dropout\r\n",
        "outputs = keras.layers.Dense(1)(x)\r\n",
        "model = keras.Model(inputs, outputs)\r\n",
        "\r\n",
        "model.summary()"
      ],
      "execution_count": null,
      "outputs": []
    },
    {
      "cell_type": "code",
      "metadata": {
        "id": "Av9DCk3H-zSF"
      },
      "source": [
        "model.compile(\r\n",
        "    optimizer=keras.optimizers.Adam(),\r\n",
        "    loss=keras.losses.BinaryCrossentropy(from_logits=True),\r\n",
        "    metrics=[keras.metrics.BinaryAccuracy()],\r\n",
        ")\r\n",
        "\r\n",
        "epochs = 15\r\n",
        "model.fit(train_ds, epochs=epochs, validation_data=validation_ds)"
      ],
      "execution_count": null,
      "outputs": []
    },
    {
      "cell_type": "code",
      "metadata": {
        "id": "9TecAJYi-7sM"
      },
      "source": [
        "# Unfreeze the base_model. Note that it keeps running in inference mode\r\n",
        "# since we passed `training=False` when calling it. This means that\r\n",
        "# the batchnorm layers will not update their batch statistics.\r\n",
        "# This prevents the batchnorm layers from undoing all the training\r\n",
        "# we've done so far.\r\n",
        "base_model.trainable = True\r\n",
        "model.summary()\r\n",
        "\r\n",
        "model.compile(\r\n",
        "    optimizer=keras.optimizers.Adam(1e-5),  # Low learning rate\r\n",
        "    loss=keras.losses.BinaryCrossentropy(from_logits=True),\r\n",
        "    metrics=[keras.metrics.BinaryAccuracy()],\r\n",
        ")\r\n",
        "\r\n",
        "epochs = 5\r\n",
        "model.fit(train_ds, epochs=epochs, validation_data=validation_ds)"
      ],
      "execution_count": null,
      "outputs": []
    },
    {
      "cell_type": "code",
      "metadata": {
        "id": "LPD1YlVs--lQ"
      },
      "source": [
        ""
      ],
      "execution_count": null,
      "outputs": []
    }
  ]
}