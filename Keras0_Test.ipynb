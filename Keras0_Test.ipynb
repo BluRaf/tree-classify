{
  "nbformat": 4,
  "nbformat_minor": 0,
  "metadata": {
    "colab": {
      "name": "Keras0-Test.ipynb",
      "provenance": [],
      "collapsed_sections": [],
      "include_colab_link": true
    },
    "kernelspec": {
      "name": "python3",
      "display_name": "Python 3"
    }
  },
  "cells": [
    {
      "cell_type": "markdown",
      "metadata": {
        "id": "view-in-github",
        "colab_type": "text"
      },
      "source": [
        "<a href=\"https://colab.research.google.com/github/BluRaf/tree-classify/blob/master/Keras0_Test.ipynb\" target=\"_parent\"><img src=\"https://colab.research.google.com/assets/colab-badge.svg\" alt=\"Open In Colab\"/></a>"
      ]
    },
    {
      "cell_type": "code",
      "metadata": {
        "id": "9mLfAjiP7Rbh",
        "outputId": "5fb4c432-a7e5-45e4-db75-f056bd7a160e",
        "colab": {
          "base_uri": "https://localhost:8080/"
        }
      },
      "source": [
        "!pip3 install tensorflow-gpu tensorflow numpy"
      ],
      "execution_count": 4,
      "outputs": [
        {
          "output_type": "stream",
          "text": [
            "Requirement already satisfied: tensorflow-gpu in /usr/local/lib/python3.6/dist-packages (2.4.1)\n",
            "Requirement already satisfied: tensorflow in /usr/local/lib/python3.6/dist-packages (2.4.0)\n",
            "Requirement already satisfied: numpy in /usr/local/lib/python3.6/dist-packages (1.19.5)\n",
            "Requirement already satisfied: typing-extensions~=3.7.4 in /usr/local/lib/python3.6/dist-packages (from tensorflow-gpu) (3.7.4.3)\n",
            "Requirement already satisfied: grpcio~=1.32.0 in /usr/local/lib/python3.6/dist-packages (from tensorflow-gpu) (1.32.0)\n",
            "Requirement already satisfied: wheel~=0.35 in /usr/local/lib/python3.6/dist-packages (from tensorflow-gpu) (0.36.2)\n",
            "Requirement already satisfied: absl-py~=0.10 in /usr/local/lib/python3.6/dist-packages (from tensorflow-gpu) (0.10.0)\n",
            "Requirement already satisfied: termcolor~=1.1.0 in /usr/local/lib/python3.6/dist-packages (from tensorflow-gpu) (1.1.0)\n",
            "Requirement already satisfied: keras-preprocessing~=1.1.2 in /usr/local/lib/python3.6/dist-packages (from tensorflow-gpu) (1.1.2)\n",
            "Requirement already satisfied: opt-einsum~=3.3.0 in /usr/local/lib/python3.6/dist-packages (from tensorflow-gpu) (3.3.0)\n",
            "Requirement already satisfied: tensorboard~=2.4 in /usr/local/lib/python3.6/dist-packages (from tensorflow-gpu) (2.4.0)\n",
            "Requirement already satisfied: flatbuffers~=1.12.0 in /usr/local/lib/python3.6/dist-packages (from tensorflow-gpu) (1.12)\n",
            "Requirement already satisfied: gast==0.3.3 in /usr/local/lib/python3.6/dist-packages (from tensorflow-gpu) (0.3.3)\n",
            "Requirement already satisfied: astunparse~=1.6.3 in /usr/local/lib/python3.6/dist-packages (from tensorflow-gpu) (1.6.3)\n",
            "Requirement already satisfied: h5py~=2.10.0 in /usr/local/lib/python3.6/dist-packages (from tensorflow-gpu) (2.10.0)\n",
            "Requirement already satisfied: protobuf>=3.9.2 in /usr/local/lib/python3.6/dist-packages (from tensorflow-gpu) (3.12.4)\n",
            "Requirement already satisfied: wrapt~=1.12.1 in /usr/local/lib/python3.6/dist-packages (from tensorflow-gpu) (1.12.1)\n",
            "Requirement already satisfied: tensorflow-estimator<2.5.0,>=2.4.0 in /usr/local/lib/python3.6/dist-packages (from tensorflow-gpu) (2.4.0)\n",
            "Requirement already satisfied: six~=1.15.0 in /usr/local/lib/python3.6/dist-packages (from tensorflow-gpu) (1.15.0)\n",
            "Requirement already satisfied: google-pasta~=0.2 in /usr/local/lib/python3.6/dist-packages (from tensorflow-gpu) (0.2.0)\n",
            "Requirement already satisfied: werkzeug>=0.11.15 in /usr/local/lib/python3.6/dist-packages (from tensorboard~=2.4->tensorflow-gpu) (1.0.1)\n",
            "Requirement already satisfied: markdown>=2.6.8 in /usr/local/lib/python3.6/dist-packages (from tensorboard~=2.4->tensorflow-gpu) (3.3.3)\n",
            "Requirement already satisfied: requests<3,>=2.21.0 in /usr/local/lib/python3.6/dist-packages (from tensorboard~=2.4->tensorflow-gpu) (2.23.0)\n",
            "Requirement already satisfied: setuptools>=41.0.0 in /usr/local/lib/python3.6/dist-packages (from tensorboard~=2.4->tensorflow-gpu) (51.3.3)\n",
            "Requirement already satisfied: tensorboard-plugin-wit>=1.6.0 in /usr/local/lib/python3.6/dist-packages (from tensorboard~=2.4->tensorflow-gpu) (1.7.0)\n",
            "Requirement already satisfied: google-auth-oauthlib<0.5,>=0.4.1 in /usr/local/lib/python3.6/dist-packages (from tensorboard~=2.4->tensorflow-gpu) (0.4.2)\n",
            "Requirement already satisfied: google-auth<2,>=1.6.3 in /usr/local/lib/python3.6/dist-packages (from tensorboard~=2.4->tensorflow-gpu) (1.17.2)\n",
            "Requirement already satisfied: importlib-metadata; python_version < \"3.8\" in /usr/local/lib/python3.6/dist-packages (from markdown>=2.6.8->tensorboard~=2.4->tensorflow-gpu) (3.3.0)\n",
            "Requirement already satisfied: certifi>=2017.4.17 in /usr/local/lib/python3.6/dist-packages (from requests<3,>=2.21.0->tensorboard~=2.4->tensorflow-gpu) (2020.12.5)\n",
            "Requirement already satisfied: idna<3,>=2.5 in /usr/local/lib/python3.6/dist-packages (from requests<3,>=2.21.0->tensorboard~=2.4->tensorflow-gpu) (2.10)\n",
            "Requirement already satisfied: chardet<4,>=3.0.2 in /usr/local/lib/python3.6/dist-packages (from requests<3,>=2.21.0->tensorboard~=2.4->tensorflow-gpu) (3.0.4)\n",
            "Requirement already satisfied: urllib3!=1.25.0,!=1.25.1,<1.26,>=1.21.1 in /usr/local/lib/python3.6/dist-packages (from requests<3,>=2.21.0->tensorboard~=2.4->tensorflow-gpu) (1.24.3)\n",
            "Requirement already satisfied: requests-oauthlib>=0.7.0 in /usr/local/lib/python3.6/dist-packages (from google-auth-oauthlib<0.5,>=0.4.1->tensorboard~=2.4->tensorflow-gpu) (1.3.0)\n",
            "Requirement already satisfied: rsa<5,>=3.1.4; python_version >= \"3\" in /usr/local/lib/python3.6/dist-packages (from google-auth<2,>=1.6.3->tensorboard~=2.4->tensorflow-gpu) (4.6)\n",
            "Requirement already satisfied: cachetools<5.0,>=2.0.0 in /usr/local/lib/python3.6/dist-packages (from google-auth<2,>=1.6.3->tensorboard~=2.4->tensorflow-gpu) (4.2.0)\n",
            "Requirement already satisfied: pyasn1-modules>=0.2.1 in /usr/local/lib/python3.6/dist-packages (from google-auth<2,>=1.6.3->tensorboard~=2.4->tensorflow-gpu) (0.2.8)\n",
            "Requirement already satisfied: zipp>=0.5 in /usr/local/lib/python3.6/dist-packages (from importlib-metadata; python_version < \"3.8\"->markdown>=2.6.8->tensorboard~=2.4->tensorflow-gpu) (3.4.0)\n",
            "Requirement already satisfied: oauthlib>=3.0.0 in /usr/local/lib/python3.6/dist-packages (from requests-oauthlib>=0.7.0->google-auth-oauthlib<0.5,>=0.4.1->tensorboard~=2.4->tensorflow-gpu) (3.1.0)\n",
            "Requirement already satisfied: pyasn1>=0.1.3 in /usr/local/lib/python3.6/dist-packages (from rsa<5,>=3.1.4; python_version >= \"3\"->google-auth<2,>=1.6.3->tensorboard~=2.4->tensorflow-gpu) (0.4.8)\n"
          ],
          "name": "stdout"
        }
      ]
    },
    {
      "cell_type": "code",
      "metadata": {
        "id": "yE8F0MgU7wEX"
      },
      "source": [
        "import numpy as np\r\n",
        "import tensorflow as tf\r\n",
        "from tensorflow import keras"
      ],
      "execution_count": 5,
      "outputs": []
    },
    {
      "cell_type": "code",
      "metadata": {
        "id": "B4RDvDBg9fPp"
      },
      "source": [
        "data_dir = '/content/drive/MyDrive/studia/sem5/pk/dataset'\r\n",
        "size = (224, 224)"
      ],
      "execution_count": 22,
      "outputs": []
    },
    {
      "cell_type": "code",
      "metadata": {
        "id": "lMzsA3OV8V0z",
        "outputId": "d5794ab9-083f-4461-a114-f8641f996b72",
        "colab": {
          "base_uri": "https://localhost:8080/"
        }
      },
      "source": [
        "train_ds = tf.keras.preprocessing.image_dataset_from_directory(\r\n",
        "  data_dir,\r\n",
        "  validation_split=0.3,\r\n",
        "  subset=\"training\",\r\n",
        "  seed=123,\r\n",
        "  image_size=size\r\n",
        "  )\r\n"
      ],
      "execution_count": 53,
      "outputs": [
        {
          "output_type": "stream",
          "text": [
            "Found 1647 files belonging to 5 classes.\n",
            "Using 1153 files for training.\n"
          ],
          "name": "stdout"
        }
      ]
    },
    {
      "cell_type": "code",
      "metadata": {
        "id": "ErSJpyc09N_f",
        "outputId": "55741a30-0172-468c-e346-bbdf73fbdde6",
        "colab": {
          "base_uri": "https://localhost:8080/"
        }
      },
      "source": [
        "validation_ds = tf.keras.preprocessing.image_dataset_from_directory(\r\n",
        "  data_dir,\r\n",
        "  validation_split=0.3,\r\n",
        "  subset=\"validation\",\r\n",
        "  seed=123,\r\n",
        "  image_size=size)\r\n",
        "\r\n",
        "val_ds_size = tf.data.experimental.cardinality(validation_ds).numpy()\r\n",
        "\r\n",
        "test_ds = validation_ds.take(0.5 * val_ds_size)\r\n",
        "validation_ds = validation_ds.skip(0.5 * val_ds_size)"
      ],
      "execution_count": 59,
      "outputs": [
        {
          "output_type": "stream",
          "text": [
            "Found 1647 files belonging to 5 classes.\n",
            "Using 494 files for validation.\n"
          ],
          "name": "stdout"
        }
      ]
    },
    {
      "cell_type": "code",
      "metadata": {
        "id": "fv4AggKd9R4Q",
        "outputId": "2072b03d-dd9d-47b5-9eda-5050089f3a63",
        "colab": {
          "base_uri": "https://localhost:8080/"
        }
      },
      "source": [
        "class_names = train_ds.class_names\r\n",
        "print(class_names)"
      ],
      "execution_count": 60,
      "outputs": [
        {
          "output_type": "stream",
          "text": [
            "['akacja', 'brzoza', 'dab', 'lipa', 'wierzba']\n"
          ],
          "name": "stdout"
        }
      ]
    },
    {
      "cell_type": "code",
      "metadata": {
        "id": "1LFm0wEn9Tbd"
      },
      "source": [
        "from tensorflow.keras import layers\r\n",
        "\r\n",
        "data_augmentation = keras.Sequential(\r\n",
        "    [\r\n",
        "        layers.experimental.preprocessing.RandomFlip(\"horizontal\"),\r\n",
        "        layers.experimental.preprocessing.RandomRotation(0.1),\r\n",
        "    ]\r\n",
        ")\r\n"
      ],
      "execution_count": 61,
      "outputs": []
    },
    {
      "cell_type": "code",
      "metadata": {
        "id": "8O2XXRR199KR",
        "outputId": "1d033902-762e-48a2-826f-50e6957e6a01",
        "colab": {
          "base_uri": "https://localhost:8080/"
        }
      },
      "source": [
        "base_model = tf.keras.applications.MobileNetV2(\r\n",
        "    weights=\"imagenet\",  # Load weights pre-trained on ImageNet.\r\n",
        "    input_shape=(224, 224, 3),\r\n",
        "    include_top=False,\r\n",
        ")  # Do not include the ImageNet classifier at the top.\r\n",
        "\r\n",
        "# Freeze the base_model\r\n",
        "base_model.trainable = False\r\n",
        "\r\n",
        "# Create new model on top\r\n",
        "inputs = keras.Input(shape=(224, 224, 3))\r\n",
        "x = data_augmentation(inputs)  # Apply random data augmentation\r\n",
        "\r\n",
        "# Pre-trained Xception weights requires that input be normalized\r\n",
        "# from (0, 255) to a range (-1., +1.), the normalization layer\r\n",
        "# does the following, outputs = (inputs - mean) / sqrt(var)\r\n",
        "norm_layer = keras.layers.experimental.preprocessing.Normalization()\r\n",
        "mean = np.array([127.5] * 3)\r\n",
        "var = mean ** 2\r\n",
        "# Scale inputs to [-1, +1]\r\n",
        "x = norm_layer(x)\r\n",
        "norm_layer.set_weights([mean, var])\r\n",
        "\r\n",
        "# The base model contains batchnorm layers. We want to keep them in inference mode\r\n",
        "# when we unfreeze the base model for fine-tuning, so we make sure that the\r\n",
        "# base_model is running in inference mode here.\r\n",
        "x = base_model(x, training=False)\r\n",
        "x = keras.layers.GlobalAveragePooling2D()(x)\r\n",
        "x = keras.layers.Dropout(0.2)(x)  # Regularize with dropout\r\n",
        "outputs = keras.layers.Dense(1)(x)\r\n",
        "model = keras.Model(inputs, outputs)\r\n",
        "\r\n",
        "model.summary()"
      ],
      "execution_count": 62,
      "outputs": [
        {
          "output_type": "stream",
          "text": [
            "Model: \"model_8\"\n",
            "_________________________________________________________________\n",
            "Layer (type)                 Output Shape              Param #   \n",
            "=================================================================\n",
            "input_18 (InputLayer)        [(None, 224, 224, 3)]     0         \n",
            "_________________________________________________________________\n",
            "sequential_5 (Sequential)    (None, 224, 224, 3)       0         \n",
            "_________________________________________________________________\n",
            "normalization_8 (Normalizati (None, 224, 224, 3)       7         \n",
            "_________________________________________________________________\n",
            "mobilenetv2_1.00_224 (Functi (None, 7, 7, 1280)        2257984   \n",
            "_________________________________________________________________\n",
            "global_average_pooling2d_8 ( (None, 1280)              0         \n",
            "_________________________________________________________________\n",
            "dropout_8 (Dropout)          (None, 1280)              0         \n",
            "_________________________________________________________________\n",
            "dense_8 (Dense)              (None, 1)                 1281      \n",
            "=================================================================\n",
            "Total params: 2,259,272\n",
            "Trainable params: 1,281\n",
            "Non-trainable params: 2,257,991\n",
            "_________________________________________________________________\n"
          ],
          "name": "stdout"
        }
      ]
    },
    {
      "cell_type": "code",
      "metadata": {
        "id": "Av9DCk3H-zSF",
        "outputId": "6d9e7c47-a7e3-4560-f209-bce8b1dfa4d8",
        "colab": {
          "base_uri": "https://localhost:8080/"
        }
      },
      "source": [
        "model.compile(\r\n",
        "    optimizer=keras.optimizers.Adam(),\r\n",
        "    loss=keras.losses.Poisson(),\r\n",
        "    metrics=[keras.metrics.Accuracy()],\r\n",
        ")\r\n",
        "\r\n",
        "epochs = 5\r\n",
        "model.fit(train_ds, epochs=epochs, validation_data=validation_ds)"
      ],
      "execution_count": 63,
      "outputs": [
        {
          "output_type": "stream",
          "text": [
            "Epoch 1/5\n",
            "37/37 [==============================] - 68s 2s/step - loss: nan - accuracy: 0.0000e+00 - val_loss: 1.0432 - val_accuracy: 0.0000e+00\n",
            "Epoch 2/5\n",
            "37/37 [==============================] - 59s 2s/step - loss: nan - accuracy: 0.0000e+00 - val_loss: 0.8733 - val_accuracy: 0.0000e+00\n",
            "Epoch 3/5\n",
            "37/37 [==============================] - 59s 2s/step - loss: nan - accuracy: 0.0000e+00 - val_loss: 0.7443 - val_accuracy: 0.0000e+00\n",
            "Epoch 4/5\n",
            "37/37 [==============================] - 59s 2s/step - loss: nan - accuracy: 0.0000e+00 - val_loss: 0.6057 - val_accuracy: 0.0000e+00\n",
            "Epoch 5/5\n",
            "37/37 [==============================] - 59s 2s/step - loss: nan - accuracy: 0.0000e+00 - val_loss: 0.6002 - val_accuracy: 0.0000e+00\n"
          ],
          "name": "stdout"
        },
        {
          "output_type": "execute_result",
          "data": {
            "text/plain": [
              "<tensorflow.python.keras.callbacks.History at 0x7f77359ad5c0>"
            ]
          },
          "metadata": {
            "tags": []
          },
          "execution_count": 63
        }
      ]
    },
    {
      "cell_type": "code",
      "metadata": {
        "id": "9TecAJYi-7sM",
        "outputId": "4284b625-1a3e-4115-87a4-43153d8167a9",
        "colab": {
          "base_uri": "https://localhost:8080/"
        }
      },
      "source": [
        "# Unfreeze the base_model. Note that it keeps running in inference mode\r\n",
        "# since we passed `training=False` when calling it. This means that\r\n",
        "# the batchnorm layers will not update their batch statistics.\r\n",
        "# This prevents the batchnorm layers from undoing all the training\r\n",
        "# we've done so far.\r\n",
        "base_model.trainable = True\r\n",
        "model.summary()\r\n",
        "\r\n",
        "model.compile(\r\n",
        "    optimizer=keras.optimizers.Adam(1e-5),  # Low learning rate\r\n",
        "    loss=keras.losses.Poisson(),\r\n",
        "    metrics=[keras.metrics.Accuracy()],\r\n",
        ")\r\n",
        "\r\n",
        "epochs = 5\r\n",
        "model.fit(train_ds, epochs=epochs, validation_data=validation_ds)"
      ],
      "execution_count": 64,
      "outputs": [
        {
          "output_type": "stream",
          "text": [
            "Model: \"model_8\"\n",
            "_________________________________________________________________\n",
            "Layer (type)                 Output Shape              Param #   \n",
            "=================================================================\n",
            "input_18 (InputLayer)        [(None, 224, 224, 3)]     0         \n",
            "_________________________________________________________________\n",
            "sequential_5 (Sequential)    (None, 224, 224, 3)       0         \n",
            "_________________________________________________________________\n",
            "normalization_8 (Normalizati (None, 224, 224, 3)       7         \n",
            "_________________________________________________________________\n",
            "mobilenetv2_1.00_224 (Functi (None, 7, 7, 1280)        2257984   \n",
            "_________________________________________________________________\n",
            "global_average_pooling2d_8 ( (None, 1280)              0         \n",
            "_________________________________________________________________\n",
            "dropout_8 (Dropout)          (None, 1280)              0         \n",
            "_________________________________________________________________\n",
            "dense_8 (Dense)              (None, 1)                 1281      \n",
            "=================================================================\n",
            "Total params: 2,259,272\n",
            "Trainable params: 2,225,153\n",
            "Non-trainable params: 34,119\n",
            "_________________________________________________________________\n",
            "Epoch 1/5\n",
            "37/37 [==============================] - 197s 5s/step - loss: nan - accuracy: 0.0000e+00 - val_loss: nan - val_accuracy: 0.0000e+00\n",
            "Epoch 2/5\n",
            "37/37 [==============================] - 191s 5s/step - loss: nan - accuracy: 0.0000e+00 - val_loss: nan - val_accuracy: 0.0000e+00\n",
            "Epoch 3/5\n",
            "37/37 [==============================] - 193s 5s/step - loss: nan - accuracy: 0.0000e+00 - val_loss: nan - val_accuracy: 0.0000e+00\n",
            "Epoch 4/5\n",
            "37/37 [==============================] - 191s 5s/step - loss: nan - accuracy: 0.0000e+00 - val_loss: nan - val_accuracy: 0.0000e+00\n",
            "Epoch 5/5\n",
            "37/37 [==============================] - 190s 5s/step - loss: nan - accuracy: 0.0000e+00 - val_loss: nan - val_accuracy: 0.0000e+00\n"
          ],
          "name": "stdout"
        },
        {
          "output_type": "execute_result",
          "data": {
            "text/plain": [
              "<tensorflow.python.keras.callbacks.History at 0x7f774475bf98>"
            ]
          },
          "metadata": {
            "tags": []
          },
          "execution_count": 64
        }
      ]
    },
    {
      "cell_type": "code",
      "metadata": {
        "id": "LPD1YlVs--lQ",
        "outputId": "e8a902cd-c3cd-49c3-e51d-b400d4b1cfb8",
        "colab": {
          "base_uri": "https://localhost:8080/"
        }
      },
      "source": [
        "loss, accuracy = model.evaluate(test_ds)\n",
        "print(\"Accuracy {}%, loss {}%\".format(accuracy*100, loss*100))"
      ],
      "execution_count": 66,
      "outputs": [
        {
          "output_type": "stream",
          "text": [
            "8/8 [==============================] - 11s 1s/step - loss: nan - accuracy: 0.0000e+00\n",
            "Accuracy 0.0%, loss nan%\n"
          ],
          "name": "stdout"
        }
      ]
    }
  ]
}