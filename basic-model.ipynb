{
  "nbformat": 4,
  "nbformat_minor": 0,
  "metadata": {
    "colab": {
      "name": "scratchpad.ipynb",
      "provenance": [],
      "mount_file_id": "https://github.com/BluRaf/tree-classify/blob/master/basic-model.ipynb",
      "authorship_tag": "ABX9TyNJ2ejN2FHE/2fEmmryP+TB",
      "include_colab_link": true
    },
    "kernelspec": {
      "name": "python3",
      "display_name": "Python 3"
    }
  },
  "cells": [
    {
      "cell_type": "markdown",
      "metadata": {
        "id": "view-in-github",
        "colab_type": "text"
      },
      "source": [
        "<a href=\"https://colab.research.google.com/github/BluRaf/tree-classify/blob/master/basic-model.ipynb\" target=\"_parent\"><img src=\"https://colab.research.google.com/assets/colab-badge.svg\" alt=\"Open In Colab\"/></a>"
      ]
    },
    {
      "cell_type": "code",
      "metadata": {
        "colab": {
          "base_uri": "https://localhost:8080/"
        },
        "id": "2qVdjYjsSPeX",
        "outputId": "58e08a2c-98d4-4853-d819-bfc4abfd65e3"
      },
      "source": [
        "!pip3 install tflite-model-maker"
      ],
      "execution_count": 1,
      "outputs": [
        {
          "output_type": "stream",
          "text": [
            "Collecting tflite-model-maker\n",
            "\u001b[?25l  Downloading https://files.pythonhosted.org/packages/52/a5/367b449b0a13b6db970e14604799238e0f7a15e97b6dfe1c8c51e7c200ef/tflite_model_maker-0.2.4-py3-none-any.whl (190kB)\n",
            "\r\u001b[K     |█▊                              | 10kB 17.7MB/s eta 0:00:01\r\u001b[K     |███▌                            | 20kB 21.8MB/s eta 0:00:01\r\u001b[K     |█████▏                          | 30kB 10.9MB/s eta 0:00:01\r\u001b[K     |███████                         | 40kB 9.0MB/s eta 0:00:01\r\u001b[K     |████████▋                       | 51kB 6.5MB/s eta 0:00:01\r\u001b[K     |██████████▍                     | 61kB 6.7MB/s eta 0:00:01\r\u001b[K     |████████████                    | 71kB 7.6MB/s eta 0:00:01\r\u001b[K     |█████████████▉                  | 81kB 8.4MB/s eta 0:00:01\r\u001b[K     |███████████████▌                | 92kB 8.1MB/s eta 0:00:01\r\u001b[K     |█████████████████▎              | 102kB 7.5MB/s eta 0:00:01\r\u001b[K     |███████████████████             | 112kB 7.5MB/s eta 0:00:01\r\u001b[K     |████████████████████▊           | 122kB 7.5MB/s eta 0:00:01\r\u001b[K     |██████████████████████▍         | 133kB 7.5MB/s eta 0:00:01\r\u001b[K     |████████████████████████▏       | 143kB 7.5MB/s eta 0:00:01\r\u001b[K     |█████████████████████████▉      | 153kB 7.5MB/s eta 0:00:01\r\u001b[K     |███████████████████████████▋    | 163kB 7.5MB/s eta 0:00:01\r\u001b[K     |█████████████████████████████▎  | 174kB 7.5MB/s eta 0:00:01\r\u001b[K     |███████████████████████████████ | 184kB 7.5MB/s eta 0:00:01\r\u001b[K     |████████████████████████████████| 194kB 7.5MB/s \n",
            "\u001b[?25hRequirement already satisfied: numpy>=1.17.3 in /usr/local/lib/python3.6/dist-packages (from tflite-model-maker) (1.19.5)\n",
            "Requirement already satisfied: tensorflow-datasets>=2.1.0 in /usr/local/lib/python3.6/dist-packages (from tflite-model-maker) (4.0.1)\n",
            "Requirement already satisfied: pillow>=7.0.0 in /usr/local/lib/python3.6/dist-packages (from tflite-model-maker) (7.0.0)\n",
            "Collecting tflite-support==0.1.0rc4\n",
            "\u001b[?25l  Downloading https://files.pythonhosted.org/packages/a2/34/21b81b8250eb2f5c98fdc60544b6e9cde42fde50c815f9f1e493a57c1f00/tflite_support-0.1.0rc4-cp36-cp36m-manylinux2010_x86_64.whl (1.0MB)\n",
            "\u001b[K     |████████████████████████████████| 1.0MB 12.5MB/s \n",
            "\u001b[?25hRequirement already satisfied: flatbuffers==1.12 in /usr/local/lib/python3.6/dist-packages (from tflite-model-maker) (1.12)\n",
            "Collecting tensorflowjs>=2.4.0\n",
            "\u001b[?25l  Downloading https://files.pythonhosted.org/packages/7e/26/57b3ee729f1c39c6150b8540571f9802374a6a384808ecc0bc26de3d1a21/tensorflowjs-2.8.4-py3-none-any.whl (63kB)\n",
            "\u001b[K     |████████████████████████████████| 71kB 10.0MB/s \n",
            "\u001b[?25hCollecting lxml>=4.6.1\n",
            "\u001b[?25l  Downloading https://files.pythonhosted.org/packages/bd/78/56a7c88a57d0d14945472535d0df9fb4bbad7d34ede658ec7961635c790e/lxml-4.6.2-cp36-cp36m-manylinux1_x86_64.whl (5.5MB)\n",
            "\u001b[K     |████████████████████████████████| 5.5MB 13.5MB/s \n",
            "\u001b[?25hRequirement already satisfied: librosa>=0.5 in /usr/local/lib/python3.6/dist-packages (from tflite-model-maker) (0.6.3)\n",
            "Requirement already satisfied: tensorflow-hub>=0.8.0 in /usr/local/lib/python3.6/dist-packages (from tflite-model-maker) (0.11.0)\n",
            "Requirement already satisfied: urllib3!=1.25.0,!=1.25.1,<1.26,>=1.21.1 in /usr/local/lib/python3.6/dist-packages (from tflite-model-maker) (1.24.3)\n",
            "Collecting sentencepiece>=0.1.91\n",
            "\u001b[?25l  Downloading https://files.pythonhosted.org/packages/14/67/e42bd1181472c95c8cda79305df848264f2a7f62740995a46945d9797b67/sentencepiece-0.1.95-cp36-cp36m-manylinux2014_x86_64.whl (1.2MB)\n",
            "\u001b[K     |████████████████████████████████| 1.2MB 53.7MB/s \n",
            "\u001b[?25hRequirement already satisfied: tensorflow>=2.4.0 in /usr/local/lib/python3.6/dist-packages (from tflite-model-maker) (2.4.0)\n",
            "Collecting PyYAML>=5.1\n",
            "\u001b[?25l  Downloading https://files.pythonhosted.org/packages/64/c2/b80047c7ac2478f9501676c988a5411ed5572f35d1beff9cae07d321512c/PyYAML-5.3.1.tar.gz (269kB)\n",
            "\u001b[K     |████████████████████████████████| 276kB 52.2MB/s \n",
            "\u001b[?25hRequirement already satisfied: absl-py<0.11>=0.10.0 in /usr/local/lib/python3.6/dist-packages (from tflite-model-maker) (0.10.0)\n",
            "Collecting fire>=0.3.1\n",
            "\u001b[?25l  Downloading https://files.pythonhosted.org/packages/34/a7/0e22e70778aca01a52b9c899d9c145c6396d7b613719cd63db97ffa13f2f/fire-0.3.1.tar.gz (81kB)\n",
            "\u001b[K     |████████████████████████████████| 81kB 10.6MB/s \n",
            "\u001b[?25hCollecting tf-models-official==2.3.0\n",
            "\u001b[?25l  Downloading https://files.pythonhosted.org/packages/5b/33/91e5e90e3e96292717245d3fe87eb3b35b07c8a2113f2da7f482040facdb/tf_models_official-2.3.0-py2.py3-none-any.whl (840kB)\n",
            "\u001b[K     |████████████████████████████████| 849kB 40.8MB/s \n",
            "\u001b[?25hRequirement already satisfied: future in /usr/local/lib/python3.6/dist-packages (from tensorflow-datasets>=2.1.0->tflite-model-maker) (0.16.0)\n",
            "Requirement already satisfied: tensorflow-metadata in /usr/local/lib/python3.6/dist-packages (from tensorflow-datasets>=2.1.0->tflite-model-maker) (0.26.0)\n",
            "Requirement already satisfied: termcolor in /usr/local/lib/python3.6/dist-packages (from tensorflow-datasets>=2.1.0->tflite-model-maker) (1.1.0)\n",
            "Requirement already satisfied: requests>=2.19.0 in /usr/local/lib/python3.6/dist-packages (from tensorflow-datasets>=2.1.0->tflite-model-maker) (2.23.0)\n",
            "Requirement already satisfied: promise in /usr/local/lib/python3.6/dist-packages (from tensorflow-datasets>=2.1.0->tflite-model-maker) (2.3)\n",
            "Requirement already satisfied: importlib-resources; python_version < \"3.9\" in /usr/local/lib/python3.6/dist-packages (from tensorflow-datasets>=2.1.0->tflite-model-maker) (4.1.1)\n",
            "Requirement already satisfied: attrs>=18.1.0 in /usr/local/lib/python3.6/dist-packages (from tensorflow-datasets>=2.1.0->tflite-model-maker) (20.3.0)\n",
            "Requirement already satisfied: protobuf>=3.6.1 in /usr/local/lib/python3.6/dist-packages (from tensorflow-datasets>=2.1.0->tflite-model-maker) (3.12.4)\n",
            "Requirement already satisfied: dm-tree in /usr/local/lib/python3.6/dist-packages (from tensorflow-datasets>=2.1.0->tflite-model-maker) (0.1.5)\n",
            "Requirement already satisfied: tqdm in /usr/local/lib/python3.6/dist-packages (from tensorflow-datasets>=2.1.0->tflite-model-maker) (4.41.1)\n",
            "Requirement already satisfied: dataclasses; python_version < \"3.7\" in /usr/local/lib/python3.6/dist-packages (from tensorflow-datasets>=2.1.0->tflite-model-maker) (0.8)\n",
            "Requirement already satisfied: six in /usr/local/lib/python3.6/dist-packages (from tensorflow-datasets>=2.1.0->tflite-model-maker) (1.15.0)\n",
            "Requirement already satisfied: dill in /usr/local/lib/python3.6/dist-packages (from tensorflow-datasets>=2.1.0->tflite-model-maker) (0.3.3)\n",
            "Collecting pybind11>=2.4\n",
            "\u001b[?25l  Downloading https://files.pythonhosted.org/packages/00/84/fc9dc13ee536ba5e6b8fd10ce368fea5b738fe394c3b296cde7c9b144a92/pybind11-2.6.1-py2.py3-none-any.whl (188kB)\n",
            "\u001b[K     |████████████████████████████████| 194kB 49.2MB/s \n",
            "\u001b[?25hRequirement already satisfied: h5py<3,>=2.8.0 in /usr/local/lib/python3.6/dist-packages (from tensorflowjs>=2.4.0->tflite-model-maker) (2.10.0)\n",
            "Requirement already satisfied: scikit-learn!=0.19.0,>=0.14.0 in /usr/local/lib/python3.6/dist-packages (from librosa>=0.5->tflite-model-maker) (0.22.2.post1)\n",
            "Requirement already satisfied: audioread>=2.0.0 in /usr/local/lib/python3.6/dist-packages (from librosa>=0.5->tflite-model-maker) (2.1.9)\n",
            "Requirement already satisfied: numba>=0.38.0 in /usr/local/lib/python3.6/dist-packages (from librosa>=0.5->tflite-model-maker) (0.48.0)\n",
            "Requirement already satisfied: decorator>=3.0.0 in /usr/local/lib/python3.6/dist-packages (from librosa>=0.5->tflite-model-maker) (4.4.2)\n",
            "Requirement already satisfied: resampy>=0.2.0 in /usr/local/lib/python3.6/dist-packages (from librosa>=0.5->tflite-model-maker) (0.2.2)\n",
            "Requirement already satisfied: joblib>=0.12 in /usr/local/lib/python3.6/dist-packages (from librosa>=0.5->tflite-model-maker) (1.0.0)\n",
            "Requirement already satisfied: scipy>=1.0.0 in /usr/local/lib/python3.6/dist-packages (from librosa>=0.5->tflite-model-maker) (1.4.1)\n",
            "Requirement already satisfied: google-pasta~=0.2 in /usr/local/lib/python3.6/dist-packages (from tensorflow>=2.4.0->tflite-model-maker) (0.2.0)\n",
            "Requirement already satisfied: typing-extensions~=3.7.4 in /usr/local/lib/python3.6/dist-packages (from tensorflow>=2.4.0->tflite-model-maker) (3.7.4.3)\n",
            "Requirement already satisfied: gast==0.3.3 in /usr/local/lib/python3.6/dist-packages (from tensorflow>=2.4.0->tflite-model-maker) (0.3.3)\n",
            "Requirement already satisfied: astunparse~=1.6.3 in /usr/local/lib/python3.6/dist-packages (from tensorflow>=2.4.0->tflite-model-maker) (1.6.3)\n",
            "Requirement already satisfied: opt-einsum~=3.3.0 in /usr/local/lib/python3.6/dist-packages (from tensorflow>=2.4.0->tflite-model-maker) (3.3.0)\n",
            "Requirement already satisfied: tensorflow-estimator<2.5.0,>=2.4.0rc0 in /usr/local/lib/python3.6/dist-packages (from tensorflow>=2.4.0->tflite-model-maker) (2.4.0)\n",
            "Requirement already satisfied: tensorboard~=2.4 in /usr/local/lib/python3.6/dist-packages (from tensorflow>=2.4.0->tflite-model-maker) (2.4.0)\n",
            "Requirement already satisfied: keras-preprocessing~=1.1.2 in /usr/local/lib/python3.6/dist-packages (from tensorflow>=2.4.0->tflite-model-maker) (1.1.2)\n",
            "Requirement already satisfied: wrapt~=1.12.1 in /usr/local/lib/python3.6/dist-packages (from tensorflow>=2.4.0->tflite-model-maker) (1.12.1)\n",
            "Requirement already satisfied: wheel~=0.35 in /usr/local/lib/python3.6/dist-packages (from tensorflow>=2.4.0->tflite-model-maker) (0.36.2)\n",
            "Requirement already satisfied: grpcio~=1.32.0 in /usr/local/lib/python3.6/dist-packages (from tensorflow>=2.4.0->tflite-model-maker) (1.32.0)\n",
            "Requirement already satisfied: tensorflow-addons in /usr/local/lib/python3.6/dist-packages (from tf-models-official==2.3.0->tflite-model-maker) (0.8.3)\n",
            "Requirement already satisfied: kaggle>=1.3.9 in /usr/local/lib/python3.6/dist-packages (from tf-models-official==2.3.0->tflite-model-maker) (1.5.10)\n",
            "Requirement already satisfied: pandas>=0.22.0 in /usr/local/lib/python3.6/dist-packages (from tf-models-official==2.3.0->tflite-model-maker) (1.1.5)\n",
            "Collecting tensorflow-model-optimization>=0.2.1\n",
            "\u001b[?25l  Downloading https://files.pythonhosted.org/packages/55/38/4fd48ea1bfcb0b6e36d949025200426fe9c3a8bfae029f0973d85518fa5a/tensorflow_model_optimization-0.5.0-py2.py3-none-any.whl (172kB)\n",
            "\u001b[K     |████████████████████████████████| 174kB 56.0MB/s \n",
            "\u001b[?25hCollecting opencv-python-headless\n",
            "\u001b[?25l  Downloading https://files.pythonhosted.org/packages/96/fc/4da675cc522a749ebbcf85c5a63fba844b2d44c87e6f24e3fdb147df3270/opencv_python_headless-4.5.1.48-cp36-cp36m-manylinux2014_x86_64.whl (37.6MB)\n",
            "\u001b[K     |████████████████████████████████| 37.6MB 97kB/s \n",
            "\u001b[?25hRequirement already satisfied: gin-config in /usr/local/lib/python3.6/dist-packages (from tf-models-official==2.3.0->tflite-model-maker) (0.4.0)\n",
            "Collecting py-cpuinfo>=3.3.0\n",
            "\u001b[?25l  Downloading https://files.pythonhosted.org/packages/f6/f5/8e6e85ce2e9f6e05040cf0d4e26f43a4718bcc4bce988b433276d4b1a5c1/py-cpuinfo-7.0.0.tar.gz (95kB)\n",
            "\u001b[K     |████████████████████████████████| 102kB 12.7MB/s \n",
            "\u001b[?25hRequirement already satisfied: google-api-python-client>=1.6.7 in /usr/local/lib/python3.6/dist-packages (from tf-models-official==2.3.0->tflite-model-maker) (1.7.12)\n",
            "Requirement already satisfied: matplotlib in /usr/local/lib/python3.6/dist-packages (from tf-models-official==2.3.0->tflite-model-maker) (3.2.2)\n",
            "Requirement already satisfied: psutil>=5.4.3 in /usr/local/lib/python3.6/dist-packages (from tf-models-official==2.3.0->tflite-model-maker) (5.4.8)\n",
            "Requirement already satisfied: Cython in /usr/local/lib/python3.6/dist-packages (from tf-models-official==2.3.0->tflite-model-maker) (0.29.21)\n",
            "Requirement already satisfied: google-cloud-bigquery>=0.31.0 in /usr/local/lib/python3.6/dist-packages (from tf-models-official==2.3.0->tflite-model-maker) (1.21.0)\n",
            "Collecting tf-slim>=1.1.0\n",
            "\u001b[?25l  Downloading https://files.pythonhosted.org/packages/02/97/b0f4a64df018ca018cc035d44f2ef08f91e2e8aa67271f6f19633a015ff7/tf_slim-1.1.0-py2.py3-none-any.whl (352kB)\n",
            "\u001b[K     |████████████████████████████████| 358kB 43.9MB/s \n",
            "\u001b[?25hRequirement already satisfied: googleapis-common-protos<2,>=1.52.0 in /usr/local/lib/python3.6/dist-packages (from tensorflow-metadata->tensorflow-datasets>=2.1.0->tflite-model-maker) (1.52.0)\n",
            "Requirement already satisfied: idna<3,>=2.5 in /usr/local/lib/python3.6/dist-packages (from requests>=2.19.0->tensorflow-datasets>=2.1.0->tflite-model-maker) (2.10)\n",
            "Requirement already satisfied: certifi>=2017.4.17 in /usr/local/lib/python3.6/dist-packages (from requests>=2.19.0->tensorflow-datasets>=2.1.0->tflite-model-maker) (2020.12.5)\n",
            "Requirement already satisfied: chardet<4,>=3.0.2 in /usr/local/lib/python3.6/dist-packages (from requests>=2.19.0->tensorflow-datasets>=2.1.0->tflite-model-maker) (3.0.4)\n",
            "Requirement already satisfied: zipp>=0.4; python_version < \"3.8\" in /usr/local/lib/python3.6/dist-packages (from importlib-resources; python_version < \"3.9\"->tensorflow-datasets>=2.1.0->tflite-model-maker) (3.4.0)\n",
            "Requirement already satisfied: setuptools in /usr/local/lib/python3.6/dist-packages (from protobuf>=3.6.1->tensorflow-datasets>=2.1.0->tflite-model-maker) (51.1.1)\n",
            "Requirement already satisfied: llvmlite<0.32.0,>=0.31.0dev0 in /usr/local/lib/python3.6/dist-packages (from numba>=0.38.0->librosa>=0.5->tflite-model-maker) (0.31.0)\n",
            "Requirement already satisfied: google-auth-oauthlib<0.5,>=0.4.1 in /usr/local/lib/python3.6/dist-packages (from tensorboard~=2.4->tensorflow>=2.4.0->tflite-model-maker) (0.4.2)\n",
            "Requirement already satisfied: tensorboard-plugin-wit>=1.6.0 in /usr/local/lib/python3.6/dist-packages (from tensorboard~=2.4->tensorflow>=2.4.0->tflite-model-maker) (1.7.0)\n",
            "Requirement already satisfied: google-auth<2,>=1.6.3 in /usr/local/lib/python3.6/dist-packages (from tensorboard~=2.4->tensorflow>=2.4.0->tflite-model-maker) (1.17.2)\n",
            "Requirement already satisfied: werkzeug>=0.11.15 in /usr/local/lib/python3.6/dist-packages (from tensorboard~=2.4->tensorflow>=2.4.0->tflite-model-maker) (1.0.1)\n",
            "Requirement already satisfied: markdown>=2.6.8 in /usr/local/lib/python3.6/dist-packages (from tensorboard~=2.4->tensorflow>=2.4.0->tflite-model-maker) (3.3.3)\n",
            "Requirement already satisfied: typeguard in /usr/local/lib/python3.6/dist-packages (from tensorflow-addons->tf-models-official==2.3.0->tflite-model-maker) (2.7.1)\n",
            "Requirement already satisfied: python-slugify in /usr/local/lib/python3.6/dist-packages (from kaggle>=1.3.9->tf-models-official==2.3.0->tflite-model-maker) (4.0.1)\n",
            "Requirement already satisfied: python-dateutil in /usr/local/lib/python3.6/dist-packages (from kaggle>=1.3.9->tf-models-official==2.3.0->tflite-model-maker) (2.8.1)\n",
            "Requirement already satisfied: pytz>=2017.2 in /usr/local/lib/python3.6/dist-packages (from pandas>=0.22.0->tf-models-official==2.3.0->tflite-model-maker) (2018.9)\n",
            "Requirement already satisfied: google-auth-httplib2>=0.0.3 in /usr/local/lib/python3.6/dist-packages (from google-api-python-client>=1.6.7->tf-models-official==2.3.0->tflite-model-maker) (0.0.4)\n",
            "Requirement already satisfied: httplib2<1dev,>=0.17.0 in /usr/local/lib/python3.6/dist-packages (from google-api-python-client>=1.6.7->tf-models-official==2.3.0->tflite-model-maker) (0.17.4)\n",
            "Requirement already satisfied: uritemplate<4dev,>=3.0.0 in /usr/local/lib/python3.6/dist-packages (from google-api-python-client>=1.6.7->tf-models-official==2.3.0->tflite-model-maker) (3.0.1)\n",
            "Requirement already satisfied: kiwisolver>=1.0.1 in /usr/local/lib/python3.6/dist-packages (from matplotlib->tf-models-official==2.3.0->tflite-model-maker) (1.3.1)\n",
            "Requirement already satisfied: cycler>=0.10 in /usr/local/lib/python3.6/dist-packages (from matplotlib->tf-models-official==2.3.0->tflite-model-maker) (0.10.0)\n",
            "Requirement already satisfied: pyparsing!=2.0.4,!=2.1.2,!=2.1.6,>=2.0.1 in /usr/local/lib/python3.6/dist-packages (from matplotlib->tf-models-official==2.3.0->tflite-model-maker) (2.4.7)\n",
            "Requirement already satisfied: google-cloud-core<2.0dev,>=1.0.3 in /usr/local/lib/python3.6/dist-packages (from google-cloud-bigquery>=0.31.0->tf-models-official==2.3.0->tflite-model-maker) (1.0.3)\n",
            "Requirement already satisfied: google-resumable-media!=0.4.0,<0.5.0dev,>=0.3.1 in /usr/local/lib/python3.6/dist-packages (from google-cloud-bigquery>=0.31.0->tf-models-official==2.3.0->tflite-model-maker) (0.4.1)\n",
            "Requirement already satisfied: requests-oauthlib>=0.7.0 in /usr/local/lib/python3.6/dist-packages (from google-auth-oauthlib<0.5,>=0.4.1->tensorboard~=2.4->tensorflow>=2.4.0->tflite-model-maker) (1.3.0)\n",
            "Requirement already satisfied: cachetools<5.0,>=2.0.0 in /usr/local/lib/python3.6/dist-packages (from google-auth<2,>=1.6.3->tensorboard~=2.4->tensorflow>=2.4.0->tflite-model-maker) (4.2.0)\n",
            "Requirement already satisfied: pyasn1-modules>=0.2.1 in /usr/local/lib/python3.6/dist-packages (from google-auth<2,>=1.6.3->tensorboard~=2.4->tensorflow>=2.4.0->tflite-model-maker) (0.2.8)\n",
            "Requirement already satisfied: rsa<5,>=3.1.4; python_version >= \"3\" in /usr/local/lib/python3.6/dist-packages (from google-auth<2,>=1.6.3->tensorboard~=2.4->tensorflow>=2.4.0->tflite-model-maker) (4.6)\n",
            "Requirement already satisfied: importlib-metadata; python_version < \"3.8\" in /usr/local/lib/python3.6/dist-packages (from markdown>=2.6.8->tensorboard~=2.4->tensorflow>=2.4.0->tflite-model-maker) (3.3.0)\n",
            "Requirement already satisfied: text-unidecode>=1.3 in /usr/local/lib/python3.6/dist-packages (from python-slugify->kaggle>=1.3.9->tf-models-official==2.3.0->tflite-model-maker) (1.3)\n",
            "Requirement already satisfied: google-api-core<2.0.0dev,>=1.14.0 in /usr/local/lib/python3.6/dist-packages (from google-cloud-core<2.0dev,>=1.0.3->google-cloud-bigquery>=0.31.0->tf-models-official==2.3.0->tflite-model-maker) (1.16.0)\n",
            "Requirement already satisfied: oauthlib>=3.0.0 in /usr/local/lib/python3.6/dist-packages (from requests-oauthlib>=0.7.0->google-auth-oauthlib<0.5,>=0.4.1->tensorboard~=2.4->tensorflow>=2.4.0->tflite-model-maker) (3.1.0)\n",
            "Requirement already satisfied: pyasn1<0.5.0,>=0.4.6 in /usr/local/lib/python3.6/dist-packages (from pyasn1-modules>=0.2.1->google-auth<2,>=1.6.3->tensorboard~=2.4->tensorflow>=2.4.0->tflite-model-maker) (0.4.8)\n",
            "Building wheels for collected packages: PyYAML, fire, py-cpuinfo\n",
            "  Building wheel for PyYAML (setup.py) ... \u001b[?25l\u001b[?25hdone\n",
            "  Created wheel for PyYAML: filename=PyYAML-5.3.1-cp36-cp36m-linux_x86_64.whl size=44621 sha256=c08a5acd7cc60f82915178758c1e1438792955723ca215a87a42892681e9cc11\n",
            "  Stored in directory: /root/.cache/pip/wheels/a7/c1/ea/cf5bd31012e735dc1dfea3131a2d5eae7978b251083d6247bd\n",
            "  Building wheel for fire (setup.py) ... \u001b[?25l\u001b[?25hdone\n",
            "  Created wheel for fire: filename=fire-0.3.1-py2.py3-none-any.whl size=111006 sha256=20b72e280a157a859c6ffe5dbc69f40b001663d8da30ae5d7df35ebc7ab27ac8\n",
            "  Stored in directory: /root/.cache/pip/wheels/c1/61/df/768b03527bf006b546dce284eb4249b185669e65afc5fbb2ac\n",
            "  Building wheel for py-cpuinfo (setup.py) ... \u001b[?25l\u001b[?25hdone\n",
            "  Created wheel for py-cpuinfo: filename=py_cpuinfo-7.0.0-cp36-none-any.whl size=20072 sha256=d04667f7eeb722dab3ef6760daa65598807c3c02b8bc8247c6554a377824b590\n",
            "  Stored in directory: /root/.cache/pip/wheels/f1/93/7b/127daf0c3a5a49feb2fecd468d508067c733fba5192f726ad1\n",
            "Successfully built PyYAML fire py-cpuinfo\n",
            "\u001b[31mERROR: tensorflowjs 2.8.4 has requirement tensorflow-hub<0.10,>=0.7.0, but you'll have tensorflow-hub 0.11.0 which is incompatible.\u001b[0m\n",
            "Installing collected packages: pybind11, tflite-support, tensorflowjs, lxml, sentencepiece, PyYAML, fire, tensorflow-model-optimization, opencv-python-headless, py-cpuinfo, tf-slim, tf-models-official, tflite-model-maker\n",
            "  Found existing installation: lxml 4.2.6\n",
            "    Uninstalling lxml-4.2.6:\n",
            "      Successfully uninstalled lxml-4.2.6\n",
            "  Found existing installation: PyYAML 3.13\n",
            "    Uninstalling PyYAML-3.13:\n",
            "      Successfully uninstalled PyYAML-3.13\n",
            "Successfully installed PyYAML-5.3.1 fire-0.3.1 lxml-4.6.2 opencv-python-headless-4.5.1.48 py-cpuinfo-7.0.0 pybind11-2.6.1 sentencepiece-0.1.95 tensorflow-model-optimization-0.5.0 tensorflowjs-2.8.4 tf-models-official-2.3.0 tf-slim-1.1.0 tflite-model-maker-0.2.4 tflite-support-0.1.0rc4\n"
          ],
          "name": "stdout"
        }
      ]
    },
    {
      "cell_type": "code",
      "metadata": {
        "id": "5MUzCcTB4D0e"
      },
      "source": [
        "import os\n",
        "from collections import namedtuple\n",
        "import numpy as np\n",
        "\n",
        "import tensorflow as tf\n",
        "assert tf.__version__.startswith('2')\n",
        "\n",
        "from tflite_model_maker import configs\n",
        "from tflite_model_maker import ExportFormat\n",
        "from tflite_model_maker import image_classifier\n",
        "from tflite_model_maker import ImageClassifierDataLoader\n",
        "from tflite_model_maker import model_spec\n",
        "\n",
        "import matplotlib.pyplot as plt"
      ],
      "execution_count": 12,
      "outputs": []
    },
    {
      "cell_type": "code",
      "metadata": {
        "id": "nCREBLoW4Gum",
        "colab": {
          "base_uri": "https://localhost:8080/"
        },
        "outputId": "3ecf3bfb-e6ee-47c5-a6d1-a1adf6543f34"
      },
      "source": [
        "# Count images in dataset\n",
        "import pathlib\n",
        "data = pathlib.Path('/content/drive/MyDrive/studia/sem5/pk/dataset') \n",
        "count = len(list(data.glob('*/*.jpg')))\n",
        "count"
      ],
      "execution_count": 3,
      "outputs": [
        {
          "output_type": "execute_result",
          "data": {
            "text/plain": [
              "1647"
            ]
          },
          "metadata": {
            "tags": []
          },
          "execution_count": 3
        }
      ]
    },
    {
      "cell_type": "code",
      "metadata": {
        "id": "QCKYcCli4v6U",
        "colab": {
          "base_uri": "https://localhost:8080/"
        },
        "outputId": "e126ae82-bae8-43cb-c256-a61d323b7553"
      },
      "source": [
        "# Use built-in data loader to load dataset\n",
        "data = ImageClassifierDataLoader.from_folder(\"/content/drive/MyDrive/studia/sem5/pk/dataset\")\n",
        "train_data, rest_data = data.split(0.7)\n",
        "validation_data, test_data = rest_data.split(0.5)"
      ],
      "execution_count": 4,
      "outputs": [
        {
          "output_type": "stream",
          "text": [
            "INFO:tensorflow:Load image with size: 1647, num_label: 5, labels: akacja, brzoza, dab, lipa, wierzba.\n"
          ],
          "name": "stdout"
        }
      ]
    },
    {
      "cell_type": "code",
      "metadata": {
        "id": "7Wkb_LAC4wdI",
        "colab": {
          "base_uri": "https://localhost:8080/"
        },
        "outputId": "e23e0c77-e27d-4f63-e61c-5ba9ff6b2a8f"
      },
      "source": [
        "# Create models based on available pre-trained models\n",
        "\n",
        "# EfficientNet-Lite0\n",
        "model_effnetl0 = image_classifier.create(\n",
        "    train_data, \n",
        "    validation_data=validation_data\n",
        "    )\n",
        "# MobileNetV2\n",
        "model_mobnetv2 = image_classifier.create(\n",
        "    train_data, validation_data=validation_data, \n",
        "    model_spec=model_spec.mobilenet_v2_spec\n",
        "    )\n",
        "# ResNet-50\n",
        "model_resnet50 = image_classifier.create(\n",
        "    train_data, validation_data=validation_data, \n",
        "    model_spec=model_spec.resnet_50_spec\n",
        "    )"
      ],
      "execution_count": 5,
      "outputs": [
        {
          "output_type": "stream",
          "text": [
            "INFO:tensorflow:Retraining the models...\n",
            "Model: \"sequential\"\n",
            "_________________________________________________________________\n",
            "Layer (type)                 Output Shape              Param #   \n",
            "=================================================================\n",
            "hub_keras_layer_v1v2 (HubKer (None, 1280)              3413024   \n",
            "_________________________________________________________________\n",
            "dropout (Dropout)            (None, 1280)              0         \n",
            "_________________________________________________________________\n",
            "dense (Dense)                (None, 5)                 6405      \n",
            "=================================================================\n",
            "Total params: 3,419,429\n",
            "Trainable params: 6,405\n",
            "Non-trainable params: 3,413,024\n",
            "_________________________________________________________________\n",
            "None\n",
            "Epoch 1/5\n",
            "36/36 [==============================] - 466s 13s/step - loss: 1.2789 - accuracy: 0.4980 - val_loss: 0.5916 - val_accuracy: 0.9420\n",
            "Epoch 2/5\n",
            "36/36 [==============================] - 64s 2s/step - loss: 0.5941 - accuracy: 0.9446 - val_loss: 0.5212 - val_accuracy: 0.9866\n",
            "Epoch 3/5\n",
            "36/36 [==============================] - 63s 2s/step - loss: 0.5331 - accuracy: 0.9751 - val_loss: 0.4995 - val_accuracy: 0.9866\n",
            "Epoch 4/5\n",
            "36/36 [==============================] - 62s 2s/step - loss: 0.5118 - accuracy: 0.9795 - val_loss: 0.4858 - val_accuracy: 0.9911\n",
            "Epoch 5/5\n",
            "36/36 [==============================] - 62s 2s/step - loss: 0.4958 - accuracy: 0.9890 - val_loss: 0.4728 - val_accuracy: 0.9955\n",
            "INFO:tensorflow:Retraining the models...\n"
          ],
          "name": "stdout"
        },
        {
          "output_type": "stream",
          "text": [
            "INFO:tensorflow:Retraining the models...\n"
          ],
          "name": "stderr"
        },
        {
          "output_type": "stream",
          "text": [
            "Model: \"sequential_1\"\n",
            "_________________________________________________________________\n",
            "Layer (type)                 Output Shape              Param #   \n",
            "=================================================================\n",
            "hub_keras_layer_v1v2_1 (HubK (None, 1280)              2257984   \n",
            "_________________________________________________________________\n",
            "dropout_1 (Dropout)          (None, 1280)              0         \n",
            "_________________________________________________________________\n",
            "dense_1 (Dense)              (None, 5)                 6405      \n",
            "=================================================================\n",
            "Total params: 2,264,389\n",
            "Trainable params: 6,405\n",
            "Non-trainable params: 2,257,984\n",
            "_________________________________________________________________\n",
            "None\n",
            "Epoch 1/5\n",
            "36/36 [==============================] - 55s 1s/step - loss: 1.3335 - accuracy: 0.5149 - val_loss: 0.5863 - val_accuracy: 0.9509\n",
            "Epoch 2/5\n",
            "36/36 [==============================] - 51s 1s/step - loss: 0.6016 - accuracy: 0.9390 - val_loss: 0.5135 - val_accuracy: 0.9866\n",
            "Epoch 3/5\n",
            "36/36 [==============================] - 51s 1s/step - loss: 0.5458 - accuracy: 0.9613 - val_loss: 0.5019 - val_accuracy: 0.9866\n",
            "Epoch 4/5\n",
            "36/36 [==============================] - 51s 1s/step - loss: 0.5222 - accuracy: 0.9745 - val_loss: 0.4870 - val_accuracy: 0.9866\n",
            "Epoch 5/5\n",
            "36/36 [==============================] - 51s 1s/step - loss: 0.5066 - accuracy: 0.9846 - val_loss: 0.4815 - val_accuracy: 0.9911\n",
            "INFO:tensorflow:Retraining the models...\n"
          ],
          "name": "stdout"
        },
        {
          "output_type": "stream",
          "text": [
            "INFO:tensorflow:Retraining the models...\n"
          ],
          "name": "stderr"
        },
        {
          "output_type": "stream",
          "text": [
            "Model: \"sequential_2\"\n",
            "_________________________________________________________________\n",
            "Layer (type)                 Output Shape              Param #   \n",
            "=================================================================\n",
            "hub_keras_layer_v1v2_2 (HubK (None, 2048)              23564800  \n",
            "_________________________________________________________________\n",
            "dropout_2 (Dropout)          (None, 2048)              0         \n",
            "_________________________________________________________________\n",
            "dense_2 (Dense)              (None, 5)                 10245     \n",
            "=================================================================\n",
            "Total params: 23,575,045\n",
            "Trainable params: 10,245\n",
            "Non-trainable params: 23,564,800\n",
            "_________________________________________________________________\n",
            "None\n",
            "Epoch 1/5\n",
            "36/36 [==============================] - 126s 3s/step - loss: 1.2475 - accuracy: 0.5600 - val_loss: 0.6489 - val_accuracy: 0.9509\n",
            "Epoch 2/5\n",
            "36/36 [==============================] - 122s 3s/step - loss: 0.6542 - accuracy: 0.9177 - val_loss: 0.5571 - val_accuracy: 0.9598\n",
            "Epoch 3/5\n",
            "36/36 [==============================] - 122s 3s/step - loss: 0.5653 - accuracy: 0.9631 - val_loss: 0.5338 - val_accuracy: 0.9643\n",
            "Epoch 4/5\n",
            "36/36 [==============================] - 122s 3s/step - loss: 0.5544 - accuracy: 0.9494 - val_loss: 0.5269 - val_accuracy: 0.9643\n",
            "Epoch 5/5\n",
            "36/36 [==============================] - 121s 3s/step - loss: 0.5444 - accuracy: 0.9576 - val_loss: 0.5193 - val_accuracy: 0.9688\n"
          ],
          "name": "stdout"
        }
      ]
    },
    {
      "cell_type": "code",
      "metadata": {
        "id": "h8mYCGFM8oog",
        "colab": {
          "base_uri": "https://localhost:8080/"
        },
        "outputId": "b21fb8fa-ca89-4d14-c1b8-d0e446dab453"
      },
      "source": [
        "# Evaluate trained models\n",
        "Model = namedtuple('Model', 'name model')\n",
        "models = (\n",
        "    Model('EfficientNet-Lite0', model_effnetl0),\n",
        "    Model('MobileNetV2', model_mobnetv2),\n",
        "    Model('ResNet-50', model_resnet50)\n",
        ")\n",
        "\n",
        "for model_i in models:\n",
        "    print(\">>> Evaluating {}\".format(model_i.name))\n",
        "    loss, accuracy = model_i.model.evaluate(test_data)\n",
        "    print(\"{}: Accuracy {}%, loss {}%\".format(\n",
        "        model_i.name, accuracy*100, loss*100))\n",
        "    print(\"\")"
      ],
      "execution_count": 11,
      "outputs": [
        {
          "output_type": "stream",
          "text": [
            ">>> Evaluating EfficientNet-Lite0\n",
            "8/8 [==============================] - 14s 1s/step - loss: 0.4884 - accuracy: 0.9798\n",
            "EfficientNet-Lite0: Accuracy 97.98387289047241%, loss 48.83814752101898%\n",
            "\n",
            ">>> Evaluating MobileNetV2\n",
            "8/8 [==============================] - 12s 1s/step - loss: 0.4993 - accuracy: 0.9798\n",
            "MobileNetV2: Accuracy 97.98387289047241%, loss 49.934667348861694%\n",
            "\n",
            ">>> Evaluating ResNet-50\n",
            "8/8 [==============================] - 25s 3s/step - loss: 0.5449 - accuracy: 0.9355\n",
            "ResNet-50: Accuracy 93.54838728904724%, loss 54.487234354019165%\n",
            "\n"
          ],
          "name": "stdout"
        }
      ]
    },
    {
      "cell_type": "code",
      "metadata": {
        "id": "uz6U_VOp8yYI",
        "colab": {
          "base_uri": "https://localhost:8080/"
        },
        "outputId": "e4abee24-6b51-41a6-f4b4-53fe380836bc"
      },
      "source": [
        "# Export trained models\n",
        "\n",
        "for model_i in models:\n",
        "    print(\">>> Exporting {}\".format(model_i.name))\n",
        "    dirpath = './{}'.format(model_i.name)\n",
        "    os.makedirs(dirpath, exist_ok = True)\n",
        "    model_i.model.export(export_dir=dirpath, with_metadata=False)"
      ],
      "execution_count": 17,
      "outputs": [
        {
          "output_type": "stream",
          "text": [
            ">>> Exporting EfficientNet-Lite0\n",
            "INFO:tensorflow:Assets written to: /tmp/tmp4mfnxtpn/assets\n"
          ],
          "name": "stdout"
        },
        {
          "output_type": "stream",
          "text": [
            "INFO:tensorflow:Assets written to: /tmp/tmp4mfnxtpn/assets\n"
          ],
          "name": "stderr"
        },
        {
          "output_type": "stream",
          "text": [
            "INFO:tensorflow:Saving labels in ./EfficientNet-Lite0/labels.txt.\n"
          ],
          "name": "stdout"
        },
        {
          "output_type": "stream",
          "text": [
            "INFO:tensorflow:Saving labels in ./EfficientNet-Lite0/labels.txt.\n"
          ],
          "name": "stderr"
        },
        {
          "output_type": "stream",
          "text": [
            ">>> Exporting MobileNetV2\n",
            "INFO:tensorflow:Assets written to: /tmp/tmprtn1adc8/assets\n"
          ],
          "name": "stdout"
        },
        {
          "output_type": "stream",
          "text": [
            "INFO:tensorflow:Assets written to: /tmp/tmprtn1adc8/assets\n"
          ],
          "name": "stderr"
        },
        {
          "output_type": "stream",
          "text": [
            "INFO:tensorflow:Saving labels in ./MobileNetV2/labels.txt.\n"
          ],
          "name": "stdout"
        },
        {
          "output_type": "stream",
          "text": [
            "INFO:tensorflow:Saving labels in ./MobileNetV2/labels.txt.\n"
          ],
          "name": "stderr"
        },
        {
          "output_type": "stream",
          "text": [
            ">>> Exporting ResNet-50\n",
            "INFO:tensorflow:Assets written to: /tmp/tmphptexj7d/assets\n"
          ],
          "name": "stdout"
        },
        {
          "output_type": "stream",
          "text": [
            "INFO:tensorflow:Assets written to: /tmp/tmphptexj7d/assets\n"
          ],
          "name": "stderr"
        },
        {
          "output_type": "stream",
          "text": [
            "INFO:tensorflow:Saving labels in ./ResNet-50/labels.txt.\n"
          ],
          "name": "stdout"
        },
        {
          "output_type": "stream",
          "text": [
            "INFO:tensorflow:Saving labels in ./ResNet-50/labels.txt.\n"
          ],
          "name": "stderr"
        }
      ]
    },
    {
      "cell_type": "code",
      "metadata": {
        "id": "M2JuyYq6-eci",
        "colab": {
          "base_uri": "https://localhost:8080/"
        },
        "outputId": "cc0b47e2-18b7-4313-cd6e-51caa69555a5"
      },
      "source": [
        "# Evaluate exported models\n",
        "\n",
        "for model_i in models:\n",
        "    print(\">>> Evaluating {}\".format(model_i.name))\n",
        "    model_i.model.evaluate_tflite('{}/model.tflite'.format(dirpath), test_data);"
      ],
      "execution_count": 19,
      "outputs": [
        {
          "output_type": "stream",
          "text": [
            ">>> Evaluating EfficientNet-Lite0\n",
            "INFO:tensorflow:Processing example: #0\n",
            "[[[[1.         1.         1.        ]\n",
            "   [1.         1.         1.        ]\n",
            "   [1.         1.         1.        ]\n",
            "   ...\n",
            "   [1.         1.         1.        ]\n",
            "   [1.         1.         1.        ]\n",
            "   [1.         1.         1.        ]]\n",
            "\n",
            "  [[1.         1.         1.        ]\n",
            "   [1.         1.         1.        ]\n",
            "   [1.         1.         1.        ]\n",
            "   ...\n",
            "   [1.         1.         1.        ]\n",
            "   [1.         1.         1.        ]\n",
            "   [1.         1.         1.        ]]\n",
            "\n",
            "  [[1.         1.         1.        ]\n",
            "   [1.         1.         1.        ]\n",
            "   [1.         1.         1.        ]\n",
            "   ...\n",
            "   [1.         1.         1.        ]\n",
            "   [1.         1.         1.        ]\n",
            "   [1.         1.         1.        ]]\n",
            "\n",
            "  ...\n",
            "\n",
            "  [[0.5316531  0.5551825  0.60224134]\n",
            "   [0.53525406 0.5587835  0.6058423 ]\n",
            "   [0.53469354 0.55822295 0.6052818 ]\n",
            "   ...\n",
            "   [0.563909   0.5408599  0.48035604]\n",
            "   [0.6677885  0.65810454 0.62977356]\n",
            "   [0.69675916 0.69355756 0.69187707]]\n",
            "\n",
            "  [[0.5680674  0.5915968  0.6386556 ]\n",
            "   [0.5445379  0.5680673  0.61512613]\n",
            "   [0.53445387 0.5579833  0.6050421 ]\n",
            "   ...\n",
            "   [0.709164   0.6689077  0.61712754]\n",
            "   [0.6809118  0.6424962  0.6248897 ]\n",
            "   [0.6685065  0.6281702  0.6393748 ]]\n",
            "\n",
            "  [[0.57142866 0.59495807 0.6420169 ]\n",
            "   [0.5487796  0.572309   0.61936784]\n",
            "   [0.52837133 0.55190074 0.59895957]\n",
            "   ...\n",
            "   [0.6999599  0.6444976  0.60360163]\n",
            "   [0.68067247 0.61784697 0.61208516]\n",
            "   [0.6780313  0.60600233 0.6368148 ]]]]\n"
          ],
          "name": "stdout"
        },
        {
          "output_type": "stream",
          "text": [
            "INFO:tensorflow:Processing example: #0\n",
            "[[[[1.         1.         1.        ]\n",
            "   [1.         1.         1.        ]\n",
            "   [1.         1.         1.        ]\n",
            "   ...\n",
            "   [1.         1.         1.        ]\n",
            "   [1.         1.         1.        ]\n",
            "   [1.         1.         1.        ]]\n",
            "\n",
            "  [[1.         1.         1.        ]\n",
            "   [1.         1.         1.        ]\n",
            "   [1.         1.         1.        ]\n",
            "   ...\n",
            "   [1.         1.         1.        ]\n",
            "   [1.         1.         1.        ]\n",
            "   [1.         1.         1.        ]]\n",
            "\n",
            "  [[1.         1.         1.        ]\n",
            "   [1.         1.         1.        ]\n",
            "   [1.         1.         1.        ]\n",
            "   ...\n",
            "   [1.         1.         1.        ]\n",
            "   [1.         1.         1.        ]\n",
            "   [1.         1.         1.        ]]\n",
            "\n",
            "  ...\n",
            "\n",
            "  [[0.5316531  0.5551825  0.60224134]\n",
            "   [0.53525406 0.5587835  0.6058423 ]\n",
            "   [0.53469354 0.55822295 0.6052818 ]\n",
            "   ...\n",
            "   [0.563909   0.5408599  0.48035604]\n",
            "   [0.6677885  0.65810454 0.62977356]\n",
            "   [0.69675916 0.69355756 0.69187707]]\n",
            "\n",
            "  [[0.5680674  0.5915968  0.6386556 ]\n",
            "   [0.5445379  0.5680673  0.61512613]\n",
            "   [0.53445387 0.5579833  0.6050421 ]\n",
            "   ...\n",
            "   [0.709164   0.6689077  0.61712754]\n",
            "   [0.6809118  0.6424962  0.6248897 ]\n",
            "   [0.6685065  0.6281702  0.6393748 ]]\n",
            "\n",
            "  [[0.57142866 0.59495807 0.6420169 ]\n",
            "   [0.5487796  0.572309   0.61936784]\n",
            "   [0.52837133 0.55190074 0.59895957]\n",
            "   ...\n",
            "   [0.6999599  0.6444976  0.60360163]\n",
            "   [0.68067247 0.61784697 0.61208516]\n",
            "   [0.6780313  0.60600233 0.6368148 ]]]]\n"
          ],
          "name": "stderr"
        },
        {
          "output_type": "stream",
          "text": [
            ">>> Evaluating MobileNetV2\n",
            ">>> Evaluating ResNet-50\n"
          ],
          "name": "stdout"
        }
      ]
    }
  ]
}